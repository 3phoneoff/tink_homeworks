{
 "cells": [
  {
   "cell_type": "markdown",
   "metadata": {
    "id": "k5o6OFmh1foG"
   },
   "source": [
    "# Подготавливаем данные"
   ]
  },
  {
   "cell_type": "code",
   "execution_count": 1,
   "metadata": {
    "colab": {
     "base_uri": "https://localhost:8080/"
    },
    "id": "0KsWUfbbUwEr",
    "outputId": "42cfdae6-8482-4dd9-c281-1e267cbd7488"
   },
   "outputs": [
    {
     "name": "stdout",
     "output_type": "stream",
     "text": [
      "Populating the interactive namespace from numpy and matplotlib\n"
     ]
    }
   ],
   "source": [
    "import numpy as np\n",
    "import pandas as pd\n",
    "import scipy\n",
    "\n",
    "from statsmodels.stats.weightstats import _zconfint_generic, _tconfint_generic\n",
    "from statsmodels.stats.proportion import proportion_confint\n",
    "\n",
    "%pylab inline"
   ]
  },
  {
   "cell_type": "code",
   "execution_count": 2,
   "metadata": {
    "colab": {
     "base_uri": "https://localhost:8080/"
    },
    "id": "8vatjzuhWEaO",
    "outputId": "358ad0ac-943c-4e72-ae32-da578539d132"
   },
   "outputs": [],
   "source": [
    "# from google.colab import drive\n",
    "# drive.mount('/content/drive')\n",
    "# %cd \"/content/drive/My Drive/Applied Statistics\""
   ]
  },
  {
   "cell_type": "code",
   "execution_count": 3,
   "metadata": {
    "colab": {
     "base_uri": "https://localhost:8080/"
    },
    "id": "C39c-PJgFgu7",
    "outputId": "b1303882-9464-4a00-813b-e10fd941d2d2"
   },
   "outputs": [
    {
     "data": {
      "text/plain": [
       "(10000, 7)"
      ]
     },
     "execution_count": 3,
     "metadata": {},
     "output_type": "execute_result"
    }
   ],
   "source": [
    "df = pd.read_csv('data.csv', sep=',')\n",
    "df.shape"
   ]
  },
  {
   "cell_type": "code",
   "execution_count": 4,
   "metadata": {
    "colab": {
     "base_uri": "https://localhost:8080/"
    },
    "id": "LKks68mcVQ8v",
    "outputId": "0a1f915f-c579-47a1-ac7f-dca340190f97"
   },
   "outputs": [
    {
     "data": {
      "text/html": [
       "<div>\n",
       "<style scoped>\n",
       "    .dataframe tbody tr th:only-of-type {\n",
       "        vertical-align: middle;\n",
       "    }\n",
       "\n",
       "    .dataframe tbody tr th {\n",
       "        vertical-align: top;\n",
       "    }\n",
       "\n",
       "    .dataframe thead th {\n",
       "        text-align: right;\n",
       "    }\n",
       "</style>\n",
       "<table border=\"1\" class=\"dataframe\">\n",
       "  <thead>\n",
       "    <tr style=\"text-align: right;\">\n",
       "      <th></th>\n",
       "      <th>id</th>\n",
       "      <th>required_amt</th>\n",
       "      <th>installment_flg</th>\n",
       "      <th>monthly_income_amt</th>\n",
       "      <th>age</th>\n",
       "      <th>has_high_education_flg</th>\n",
       "      <th>approved_flg</th>\n",
       "    </tr>\n",
       "  </thead>\n",
       "  <tbody>\n",
       "    <tr>\n",
       "      <th>6999</th>\n",
       "      <td>7000</td>\n",
       "      <td>61191.0</td>\n",
       "      <td>1</td>\n",
       "      <td>75000</td>\n",
       "      <td>26</td>\n",
       "      <td>1</td>\n",
       "      <td>0</td>\n",
       "    </tr>\n",
       "    <tr>\n",
       "      <th>4441</th>\n",
       "      <td>4442</td>\n",
       "      <td>22926.0</td>\n",
       "      <td>1</td>\n",
       "      <td>28000</td>\n",
       "      <td>19</td>\n",
       "      <td>0</td>\n",
       "      <td>0</td>\n",
       "    </tr>\n",
       "    <tr>\n",
       "      <th>4416</th>\n",
       "      <td>4417</td>\n",
       "      <td>78000.0</td>\n",
       "      <td>0</td>\n",
       "      <td>35000</td>\n",
       "      <td>35</td>\n",
       "      <td>0</td>\n",
       "      <td>1</td>\n",
       "    </tr>\n",
       "    <tr>\n",
       "      <th>6473</th>\n",
       "      <td>6474</td>\n",
       "      <td>24990.0</td>\n",
       "      <td>0</td>\n",
       "      <td>60000</td>\n",
       "      <td>34</td>\n",
       "      <td>1</td>\n",
       "      <td>0</td>\n",
       "    </tr>\n",
       "    <tr>\n",
       "      <th>7990</th>\n",
       "      <td>7991</td>\n",
       "      <td>17052.0</td>\n",
       "      <td>1</td>\n",
       "      <td>40000</td>\n",
       "      <td>30</td>\n",
       "      <td>0</td>\n",
       "      <td>1</td>\n",
       "    </tr>\n",
       "  </tbody>\n",
       "</table>\n",
       "</div>"
      ],
      "text/plain": [
       "        id  required_amt  installment_flg  monthly_income_amt  age  \\\n",
       "6999  7000       61191.0                1               75000   26   \n",
       "4441  4442       22926.0                1               28000   19   \n",
       "4416  4417       78000.0                0               35000   35   \n",
       "6473  6474       24990.0                0               60000   34   \n",
       "7990  7991       17052.0                1               40000   30   \n",
       "\n",
       "      has_high_education_flg  approved_flg  \n",
       "6999                       1             0  \n",
       "4441                       0             0  \n",
       "4416                       0             1  \n",
       "6473                       1             0  \n",
       "7990                       0             1  "
      ]
     },
     "execution_count": 4,
     "metadata": {},
     "output_type": "execute_result"
    }
   ],
   "source": [
    "df.sample(5)"
   ]
  },
  {
   "cell_type": "markdown",
   "metadata": {
    "id": "a038-uCX5Puc"
   },
   "source": [
    "* id - идентификатор заявки на получение кредита на товар/услугу\n",
    "* required_amt - запрошенная сумма кредита\n",
    "* installment_flg - флаг промо продукта\n",
    "* monthly_income_amt - ежемесячный доход заявителя\n",
    "* age - возраст заявителя\n",
    "* has_high_education_flg - наличие высшего образования\n",
    "* approved_flg - одобрил ли банк заявку"
   ]
  },
  {
   "cell_type": "code",
   "execution_count": 5,
   "metadata": {
    "colab": {
     "base_uri": "https://localhost:8080/"
    },
    "id": "WMDTz3-pXXs4",
    "outputId": "366875cd-e683-4c6f-927a-c3b36056ae22"
   },
   "outputs": [
    {
     "data": {
      "text/html": [
       "<div>\n",
       "<style scoped>\n",
       "    .dataframe tbody tr th:only-of-type {\n",
       "        vertical-align: middle;\n",
       "    }\n",
       "\n",
       "    .dataframe tbody tr th {\n",
       "        vertical-align: top;\n",
       "    }\n",
       "\n",
       "    .dataframe thead th {\n",
       "        text-align: right;\n",
       "    }\n",
       "</style>\n",
       "<table border=\"1\" class=\"dataframe\">\n",
       "  <thead>\n",
       "    <tr style=\"text-align: right;\">\n",
       "      <th></th>\n",
       "      <th>id</th>\n",
       "      <th>required_amt</th>\n",
       "      <th>installment_flg</th>\n",
       "      <th>monthly_income_amt</th>\n",
       "      <th>age</th>\n",
       "      <th>has_high_education_flg</th>\n",
       "      <th>approved_flg</th>\n",
       "    </tr>\n",
       "  </thead>\n",
       "  <tbody>\n",
       "    <tr>\n",
       "      <th>count</th>\n",
       "      <td>10000.00000</td>\n",
       "      <td>9998.000000</td>\n",
       "      <td>10000.000000</td>\n",
       "      <td>1.000000e+04</td>\n",
       "      <td>10000.000000</td>\n",
       "      <td>10000.000000</td>\n",
       "      <td>10000.000000</td>\n",
       "    </tr>\n",
       "    <tr>\n",
       "      <th>mean</th>\n",
       "      <td>5000.50000</td>\n",
       "      <td>37806.147129</td>\n",
       "      <td>0.626000</td>\n",
       "      <td>4.654274e+04</td>\n",
       "      <td>32.532200</td>\n",
       "      <td>0.352100</td>\n",
       "      <td>0.261100</td>\n",
       "    </tr>\n",
       "    <tr>\n",
       "      <th>std</th>\n",
       "      <td>2886.89568</td>\n",
       "      <td>29479.567128</td>\n",
       "      <td>0.483888</td>\n",
       "      <td>3.622018e+04</td>\n",
       "      <td>11.355345</td>\n",
       "      <td>0.477649</td>\n",
       "      <td>0.439256</td>\n",
       "    </tr>\n",
       "    <tr>\n",
       "      <th>min</th>\n",
       "      <td>1.00000</td>\n",
       "      <td>2180.000000</td>\n",
       "      <td>0.000000</td>\n",
       "      <td>2.200000e+01</td>\n",
       "      <td>18.000000</td>\n",
       "      <td>0.000000</td>\n",
       "      <td>0.000000</td>\n",
       "    </tr>\n",
       "    <tr>\n",
       "      <th>25%</th>\n",
       "      <td>2500.75000</td>\n",
       "      <td>16990.000000</td>\n",
       "      <td>0.000000</td>\n",
       "      <td>2.800000e+04</td>\n",
       "      <td>24.000000</td>\n",
       "      <td>0.000000</td>\n",
       "      <td>0.000000</td>\n",
       "    </tr>\n",
       "    <tr>\n",
       "      <th>50%</th>\n",
       "      <td>5000.50000</td>\n",
       "      <td>27734.500000</td>\n",
       "      <td>1.000000</td>\n",
       "      <td>4.000000e+04</td>\n",
       "      <td>30.000000</td>\n",
       "      <td>0.000000</td>\n",
       "      <td>0.000000</td>\n",
       "    </tr>\n",
       "    <tr>\n",
       "      <th>75%</th>\n",
       "      <td>7500.25000</td>\n",
       "      <td>52534.750000</td>\n",
       "      <td>1.000000</td>\n",
       "      <td>5.500000e+04</td>\n",
       "      <td>38.000000</td>\n",
       "      <td>1.000000</td>\n",
       "      <td>1.000000</td>\n",
       "    </tr>\n",
       "    <tr>\n",
       "      <th>max</th>\n",
       "      <td>10000.00000</td>\n",
       "      <td>279788.000000</td>\n",
       "      <td>1.000000</td>\n",
       "      <td>1.500000e+06</td>\n",
       "      <td>74.000000</td>\n",
       "      <td>1.000000</td>\n",
       "      <td>1.000000</td>\n",
       "    </tr>\n",
       "  </tbody>\n",
       "</table>\n",
       "</div>"
      ],
      "text/plain": [
       "                id   required_amt  installment_flg  monthly_income_amt  \\\n",
       "count  10000.00000    9998.000000     10000.000000        1.000000e+04   \n",
       "mean    5000.50000   37806.147129         0.626000        4.654274e+04   \n",
       "std     2886.89568   29479.567128         0.483888        3.622018e+04   \n",
       "min        1.00000    2180.000000         0.000000        2.200000e+01   \n",
       "25%     2500.75000   16990.000000         0.000000        2.800000e+04   \n",
       "50%     5000.50000   27734.500000         1.000000        4.000000e+04   \n",
       "75%     7500.25000   52534.750000         1.000000        5.500000e+04   \n",
       "max    10000.00000  279788.000000         1.000000        1.500000e+06   \n",
       "\n",
       "                age  has_high_education_flg  approved_flg  \n",
       "count  10000.000000            10000.000000  10000.000000  \n",
       "mean      32.532200                0.352100      0.261100  \n",
       "std       11.355345                0.477649      0.439256  \n",
       "min       18.000000                0.000000      0.000000  \n",
       "25%       24.000000                0.000000      0.000000  \n",
       "50%       30.000000                0.000000      0.000000  \n",
       "75%       38.000000                1.000000      1.000000  \n",
       "max       74.000000                1.000000      1.000000  "
      ]
     },
     "execution_count": 5,
     "metadata": {},
     "output_type": "execute_result"
    }
   ],
   "source": [
    "df.describe()"
   ]
  },
  {
   "cell_type": "code",
   "execution_count": 6,
   "metadata": {
    "id": "hNQj_f3raP2m"
   },
   "outputs": [],
   "source": [
    "def proportions_confint_diff_ind(sample1, sample2, alpha = 0.01):\n",
    "    '''Считает доверительный интервал для разности долей в независимых выборках'''\n",
    "    z = scipy.stats.norm.ppf(1 - alpha / 2.)\n",
    "    p1 = float(sum(sample1)) / len(sample1)\n",
    "    p2 = float(sum(sample2)) / len(sample2)\n",
    "    sigma = np.sqrt(p1 * (1 - p1)/ len(sample1) + p2 * (1 - p2)/ len(sample2))\n",
    "    left_boundary = (p1 - p2) - z * sigma\n",
    "    right_boundary = (p1 - p2) + z * sigma\n",
    "    return (left_boundary, right_boundary)"
   ]
  },
  {
   "cell_type": "code",
   "execution_count": 7,
   "metadata": {
    "id": "B-ZHFT3d4csq"
   },
   "outputs": [],
   "source": [
    "def get_bootstrap_samples(data, n_samples):\n",
    "    '''Генерирует заданное кол-во (n_samples) выборок, равных по размеру исходной выборке'''\n",
    "    indices = np.random.randint(0, len(data), (n_samples, len(data)))\n",
    "    samples = data[indices]\n",
    "    return samples"
   ]
  },
  {
   "cell_type": "code",
   "execution_count": 8,
   "metadata": {
    "id": "vmJ59mRs5arU"
   },
   "outputs": [],
   "source": [
    "def get_stat_intervals(stat, alpha):\n",
    "    '''Для заданной выборки возвращает двусторонний доверительный интервал [aplpha/2, 1 - alpha/2]'''\n",
    "    boundaries = np.percentile(stat, [100 * alpha / 2., 100 * (1 - alpha / 2.)])\n",
    "    return boundaries"
   ]
  },
  {
   "cell_type": "code",
   "execution_count": 9,
   "metadata": {},
   "outputs": [],
   "source": [
    "# def bucket_estimation(N, sample, app_flag, label):\n",
    "#     r = np.linspace(sample.min(), sample.quantile(0.99), N + 1)\n",
    "#     indices = []\n",
    "#     for i in range(N):\n",
    "#         for j in range(len(sample)):\n",
    "#             if sample[j] > r[i] and sample[j] < r[i + 1]:\n",
    "#                 indices.append(True)\n",
    "#             else:\n",
    "#                 indices.append(False)\n",
    "#     mask = np.reshape(np.array(indices, dtype=bool), (N, len(sample)))\n",
    "#     res = []\n",
    "#     for i in range(N):\n",
    "#         res.append(proportion_confint(app_flag[mask[i]].sum(),\n",
    "#                                         len(app_flag[mask[i]]),\n",
    "#                                         alpha = 0.01,\n",
    "#                                         method = 'wilson'))  \n",
    "#         print(f'confint 99% predictive interval for {label} {r[i]:,.2f} - {r[i + 1]:,.2f}: [{res[i][0]:,.2f} - {res[i][1]:,.2f}]')\n",
    "#     return res\n",
    "# required_amt_confint = bucket_estimation(6, df.required_amt, df.approved_flg, \"required_amt\")"
   ]
  },
  {
   "cell_type": "code",
   "execution_count": 59,
   "metadata": {},
   "outputs": [],
   "source": [
    "def bucket_estimation(N, sample, app_flag, label):\n",
    "    r1 = np.linspace(0, 1, N + 1)\n",
    "    r = [sample.quantile(x) for x in r1]\n",
    "    indices = []\n",
    "    for i in range(N):\n",
    "        for j in range(len(sample)):\n",
    "            if sample[j] > r[i] and sample[j] < r[i + 1]:\n",
    "                indices.append(True)\n",
    "            else:\n",
    "                indices.append(False)\n",
    "    mask = np.reshape(np.array(indices, dtype=bool), (N, len(sample)))\n",
    "    res = []\n",
    "    for i in range(N):\n",
    "        res.append(proportion_confint(app_flag[mask[i]].sum(),\n",
    "                                        len(app_flag[mask[i]]),\n",
    "                                        alpha = 0.01,\n",
    "                                        method = 'wilson'))  \n",
    "        print(f'confint 99% predictive interval for {label} {r[i]:,.2f} - {r[i + 1]:,.2f}: [{res[i][0]:,.2f} - {res[i][1]:,.2f}]')\n",
    "    return res"
   ]
  },
  {
   "cell_type": "code",
   "execution_count": 79,
   "metadata": {},
   "outputs": [],
   "source": [
    "def bucket_visual(sample, intervals, p_title):\n",
    "#     r = np.linspace(sample.min(), sample.quantile(0.99), len(intervals) + 1)\n",
    "    r1 = np.linspace(0, 1, len(intervals) + 1)\n",
    "    r = [sample.quantile(x) for x in r1]\n",
    "    plt.figure(figsize=(15,10))\n",
    "    for i in range(len(intervals)):\n",
    "        pylab.vlines((r[i] + r[i+1]) / 2, intervals[i][0] , intervals[i][1], color='orange')\n",
    "    pylab.title(\"Доверительные интервалы для бакетов \" + p_title, fontsize=12)\n",
    "plt.show()"
   ]
  },
  {
   "cell_type": "markdown",
   "metadata": {
    "id": "UU1b8PAJDK6h"
   },
   "source": [
    "# Домашнее задание"
   ]
  },
  {
   "cell_type": "markdown",
   "metadata": {},
   "source": [
    "## Задание 1"
   ]
  },
  {
   "cell_type": "code",
   "execution_count": 11,
   "metadata": {},
   "outputs": [
    {
     "name": "stdout",
     "output_type": "stream",
     "text": [
      "monthly_income_amt 95% predictive interval: [13,006.90 - 119,867.14]\n"
     ]
    }
   ],
   "source": [
    "ln_monthly_income_conf_int = _tconfint_generic(df.monthly_income_amt.apply(lambda x: np.log(x)).mean(),\n",
    "                                  df.monthly_income_amt.apply(lambda x: np.log(x)).std(ddof=1),\n",
    "                                  len(df) - 1,\n",
    "                                  0.05,\n",
    "                                  'two-sided')\n",
    "\n",
    "print(f'monthly_income_amt 95% predictive interval: [{np.exp(ln_monthly_income_conf_int[0]):,.2f} - {np.exp(ln_monthly_income_conf_int[1]):,.2f}]')"
   ]
  },
  {
   "cell_type": "code",
   "execution_count": 12,
   "metadata": {},
   "outputs": [
    {
     "name": "stdout",
     "output_type": "stream",
     "text": [
      "required_amt 95% predictive interval: [6,676.43 - 124,737.25]\n"
     ]
    }
   ],
   "source": [
    "ln_required_conf_int = _tconfint_generic(df.required_amt.apply(lambda x: np.log(x)).mean(),\n",
    "                                  df.required_amt.apply(lambda x: np.log(x)).std(ddof=1),\n",
    "                                  len(df) - 1,\n",
    "                                  0.05,\n",
    "                                  'two-sided')\n",
    "\n",
    "print(f'required_amt 95% predictive interval: [{np.exp(ln_required_conf_int[0]):,.2f} - {np.exp(ln_required_conf_int[1]):,.2f}]')"
   ]
  },
  {
   "cell_type": "markdown",
   "metadata": {},
   "source": [
    "## Задание 2"
   ]
  },
  {
   "cell_type": "markdown",
   "metadata": {},
   "source": [
    "## Бинарные признаки"
   ]
  },
  {
   "cell_type": "markdown",
   "metadata": {},
   "source": [
    "### Оценка has_high_education_flg"
   ]
  },
  {
   "cell_type": "code",
   "execution_count": 13,
   "metadata": {},
   "outputs": [
    {
     "name": "stdout",
     "output_type": "stream",
     "text": [
      "has_high_education_flg = 1 client 99% predictive interval: [0.3074 - 0.3481]\n"
     ]
    }
   ],
   "source": [
    "hh1 = proportion_confint(df[df.has_high_education_flg == 1].approved_flg.sum(),\n",
    "                        len(df[df.has_high_education_flg == 1].approved_flg),\n",
    "                        alpha = 0.01,\n",
    "                        method = 'wilson')\n",
    "print(f'has_high_education_flg = 1 client 99% predictive interval: [{hh1[0]:,.4f} - {hh1[1]:,.4f}]')"
   ]
  },
  {
   "cell_type": "code",
   "execution_count": 14,
   "metadata": {},
   "outputs": [
    {
     "name": "stdout",
     "output_type": "stream",
     "text": [
      "has_high_education_flg = 0 client 99% predictive interval: [0.2120 - 0.2387]\n"
     ]
    }
   ],
   "source": [
    "hh0 = proportion_confint(df[df.has_high_education_flg == 0].approved_flg.sum(),\n",
    "                        len(df[df.has_high_education_flg == 0].approved_flg),\n",
    "                        alpha = 0.01,\n",
    "                        method = 'wilson')\n",
    "print(f'has_high_education_flg = 0 client 99% predictive interval: [{hh0[0]:,.4f} - {hh0[1]:,.4f}]')"
   ]
  },
  {
   "cell_type": "markdown",
   "metadata": {},
   "source": [
    "Интервалы не пересекаются, но на всякий случай построим интервал для разности долей"
   ]
  },
  {
   "cell_type": "code",
   "execution_count": 15,
   "metadata": {},
   "outputs": [
    {
     "name": "stdout",
     "output_type": "stream",
     "text": [
      "has_high_education_flg difference 99% predictive interval: [0.0781 - 0.1268]\n"
     ]
    }
   ],
   "source": [
    "hhd = proportions_confint_diff_ind(df[df.has_high_education_flg == 1].approved_flg,\n",
    "                                   df[df.has_high_education_flg == 0].approved_flg)\n",
    "print(f'has_high_education_flg difference 99% predictive interval: [{hhd[0]:,.4f} - {hhd[1]:,.4f}]')"
   ]
  },
  {
   "cell_type": "markdown",
   "metadata": {},
   "source": [
    "### Оценка installment_flg"
   ]
  },
  {
   "cell_type": "code",
   "execution_count": 16,
   "metadata": {},
   "outputs": [
    {
     "name": "stdout",
     "output_type": "stream",
     "text": [
      "installment_flg = 1 99% predictive interval: [0.2465 - 0.2751]\n"
     ]
    }
   ],
   "source": [
    "inst1 = proportion_confint(df[df.installment_flg == 1].approved_flg.sum(),\n",
    "                            len(df[df.installment_flg == 1].approved_flg),\n",
    "                            alpha = 0.01,\n",
    "                            method = 'wilson')\n",
    "print(f'installment_flg = 1 99% predictive interval: [{inst1[0]:,.4f} - {inst1[1]:,.4f}]')"
   ]
  },
  {
   "cell_type": "code",
   "execution_count": 17,
   "metadata": {},
   "outputs": [
    {
     "name": "stdout",
     "output_type": "stream",
     "text": [
      "installment_flg = 0 for rejected 99% predictive interval: [0.2439 - 0.2810]\n"
     ]
    }
   ],
   "source": [
    "inst0 = proportion_confint(df[df.installment_flg == 0].approved_flg.sum(),\n",
    "                    len(df[df.installment_flg == 0].approved_flg),\n",
    "                    alpha = 0.01,\n",
    "                    method = 'wilson')\n",
    "print(f'installment_flg = 0 for rejected 99% predictive interval: [{inst0[0]:,.4f} - {inst0[1]:,.4f}]')"
   ]
  },
  {
   "cell_type": "markdown",
   "metadata": {},
   "source": [
    "Интервалы пересекаются, поэтому строим интервал для разности долей"
   ]
  },
  {
   "cell_type": "code",
   "execution_count": 18,
   "metadata": {},
   "outputs": [
    {
     "name": "stdout",
     "output_type": "stream",
     "text": [
      "installment_flg difference 99% predictive interval: [-0.0249 - 0.0219]\n"
     ]
    }
   ],
   "source": [
    "instd = proportions_confint_diff_ind(df[df.installment_flg == 1].approved_flg,\n",
    "                             df[df.installment_flg == 0].approved_flg)\n",
    "print(f'installment_flg difference 99% predictive interval: [{instd[0]:,.4f} - {instd[1]:,.4f}]')"
   ]
  },
  {
   "cell_type": "markdown",
   "metadata": {},
   "source": [
    "## Вещественные признаки"
   ]
  },
  {
   "cell_type": "markdown",
   "metadata": {},
   "source": [
    "### Оценка required_amt"
   ]
  },
  {
   "cell_type": "code",
   "execution_count": 88,
   "metadata": {},
   "outputs": [
    {
     "name": "stdout",
     "output_type": "stream",
     "text": [
      "confint 99% predictive interval for required_amt 2,180.00 - 10,705.42: [0.30 - 0.38]\n",
      "confint 99% predictive interval for required_amt 10,705.42 - 13,978.00: [0.32 - 0.41]\n",
      "confint 99% predictive interval for required_amt 13,978.00 - 16,990.00: [0.30 - 0.38]\n",
      "confint 99% predictive interval for required_amt 16,990.00 - 20,000.00: [0.26 - 0.34]\n",
      "confint 99% predictive interval for required_amt 20,000.00 - 23,391.00: [0.24 - 0.33]\n",
      "confint 99% predictive interval for required_amt 23,391.00 - 27,734.50: [0.25 - 0.33]\n",
      "confint 99% predictive interval for required_amt 27,734.50 - 33,665.17: [0.26 - 0.34]\n",
      "confint 99% predictive interval for required_amt 33,665.17 - 41,773.67: [0.22 - 0.30]\n",
      "confint 99% predictive interval for required_amt 41,773.67 - 52,534.75: [0.17 - 0.24]\n",
      "confint 99% predictive interval for required_amt 52,534.75 - 62,382.50: [0.13 - 0.20]\n",
      "confint 99% predictive interval for required_amt 62,382.50 - 80,287.50: [0.15 - 0.21]\n",
      "confint 99% predictive interval for required_amt 80,287.50 - 279,788.00: [0.10 - 0.16]\n"
     ]
    },
    {
     "data": {
      "image/png": "[encoded data removed]",
      "text/plain": [
       "<Figure size 1080x720 with 1 Axes>"
      ]
     },
     "metadata": {
      "needs_background": "light"
     },
     "output_type": "display_data"
    }
   ],
   "source": [
    "required_amt_confint = bucket_estimation(12, df.required_amt, df.approved_flg, \"required_amt\")\n",
    "bucket_visual(df.required_amt, required_amt_confint, \"required_amt\")"
   ]
  },
  {
   "cell_type": "markdown",
   "metadata": {},
   "source": [
    "Данный признак разделяет риски, это видно на графике: с увеличением запрашиваемой суммы вероятность одобрения падает (ну и это достаточно логично).\n",
    "\n",
    "В случае разбиения на 2 или 3 бакета доверительные интервалы даже не пересекаются, что подтверждает сказанное выше (для проверки можно изменить количество блоков с помощью первого аргумента функции bucket_estimation)"
   ]
  },
  {
   "cell_type": "markdown",
   "metadata": {},
   "source": [
    "### Оценка monthly_income_amt"
   ]
  },
  {
   "cell_type": "code",
   "execution_count": 94,
   "metadata": {},
   "outputs": [
    {
     "name": "stdout",
     "output_type": "stream",
     "text": [
      "confint 99% predictive interval for monthly_income_amt 22.00 - 25,000.00: [0.25 - 0.32]\n",
      "confint 99% predictive interval for monthly_income_amt 25,000.00 - 30,000.00: [0.17 - 0.27]\n",
      "confint 99% predictive interval for monthly_income_amt 30,000.00 - 35,000.00: [0.16 - 0.28]\n",
      "confint 99% predictive interval for monthly_income_amt 35,000.00 - 42,000.00: [0.24 - 0.31]\n",
      "confint 99% predictive interval for monthly_income_amt 42,000.00 - 50,000.00: [0.20 - 0.27]\n",
      "confint 99% predictive interval for monthly_income_amt 50,000.00 - 70,000.00: [0.20 - 0.26]\n",
      "confint 99% predictive interval for monthly_income_amt 70,000.00 - 1,500,000.00: [0.24 - 0.31]\n"
     ]
    },
    {
     "data": {
      "image/png": "[encoded data removed]",
      "text/plain": [
       "<Figure size 1080x720 with 1 Axes>"
      ]
     },
     "metadata": {
      "needs_background": "light"
     },
     "output_type": "display_data"
    }
   ],
   "source": [
    "monthly_income_amt_confint = bucket_estimation(12, df.monthly_income_amt, df.approved_flg, \"monthly_income_amt\")\n",
    "bucket_visual(df.monthly_income_amt, monthly_income_amt_confint, \"monthly_income_amt\")"
   ]
  },
  {
   "cell_type": "markdown",
   "metadata": {},
   "source": [
    "Данный признак не разделяет риски, это видно на графике: на всей области значений интервалы пересекаются и находятся примерно на одном уровне, закон поведения их расположения не зависит от значения з/п.\n",
    "\n",
    "В случае разбиения на 2 или 3 бакета доверительные интервалы достаточно сильно пересекаются и находятся примерно на одном уровне, что подтверждает сказанное выше (для проверки можно изменить количество блоков с помощью первого аргумента функции bucket_estimation)"
   ]
  },
  {
   "cell_type": "markdown",
   "metadata": {},
   "source": [
    "### Оценка age"
   ]
  },
  {
   "cell_type": "code",
   "execution_count": 98,
   "metadata": {},
   "outputs": [
    {
     "name": "stdout",
     "output_type": "stream",
     "text": [
      "confint 99% predictive interval for age 18.00 - 23.00: [0.08 - 0.11]\n",
      "confint 99% predictive interval for age 23.00 - 27.00: [0.18 - 0.23]\n",
      "confint 99% predictive interval for age 27.00 - 33.00: [0.26 - 0.31]\n",
      "confint 99% predictive interval for age 33.00 - 41.00: [0.30 - 0.36]\n",
      "confint 99% predictive interval for age 41.00 - 74.00: [0.39 - 0.44]\n"
     ]
    },
    {
     "data": {
      "image/png": "[encoded data removed]",
      "text/plain": [
       "<Figure size 1080x720 with 1 Axes>"
      ]
     },
     "metadata": {
      "needs_background": "light"
     },
     "output_type": "display_data"
    }
   ],
   "source": [
    "age_confint = bucket_estimation(5, df.age, df.approved_flg, \"age\")\n",
    "bucket_visual(df.age, age_confint, \"age\")"
   ]
  },
  {
   "cell_type": "markdown",
   "metadata": {},
   "source": [
    "Данный признак разделяет риски, это видно на графике: с увеличением возраста вероятность одобрения возрастает (ну и это достаточно логично).\n",
    "\n",
    "В случае разбиения на 2-4 бакета доверительные интервалы даже не пересекаются, что подтверждает сказанное выше (для проверки можно изменить количество блоков с помощью первого аргумента функции bucket_estimation)"
   ]
  },
  {
   "cell_type": "markdown",
   "metadata": {},
   "source": [
    "## Задание 3"
   ]
  },
  {
   "cell_type": "code",
   "execution_count": 22,
   "metadata": {},
   "outputs": [],
   "source": [
    "np.random.seed(0)\n",
    "\n",
    "def odds(x):\n",
    "    return (x.sum() / len(x)) / (1 - (x.sum() / len(x)))"
   ]
  },
  {
   "cell_type": "code",
   "execution_count": 23,
   "metadata": {},
   "outputs": [
    {
     "data": {
      "text/html": [
       "<div>\n",
       "<style scoped>\n",
       "    .dataframe tbody tr th:only-of-type {\n",
       "        vertical-align: middle;\n",
       "    }\n",
       "\n",
       "    .dataframe tbody tr th {\n",
       "        vertical-align: top;\n",
       "    }\n",
       "\n",
       "    .dataframe thead th {\n",
       "        text-align: right;\n",
       "    }\n",
       "</style>\n",
       "<table border=\"1\" class=\"dataframe\">\n",
       "  <thead>\n",
       "    <tr style=\"text-align: right;\">\n",
       "      <th></th>\n",
       "      <th>id</th>\n",
       "      <th>required_amt</th>\n",
       "      <th>installment_flg</th>\n",
       "      <th>monthly_income_amt</th>\n",
       "      <th>age</th>\n",
       "      <th>has_high_education_flg</th>\n",
       "      <th>approved_flg</th>\n",
       "      <th>domination</th>\n",
       "    </tr>\n",
       "  </thead>\n",
       "  <tbody>\n",
       "    <tr>\n",
       "      <th>9394</th>\n",
       "      <td>9395</td>\n",
       "      <td>13659.0</td>\n",
       "      <td>0</td>\n",
       "      <td>40000</td>\n",
       "      <td>22</td>\n",
       "      <td>1</td>\n",
       "      <td>0</td>\n",
       "      <td>1</td>\n",
       "    </tr>\n",
       "    <tr>\n",
       "      <th>898</th>\n",
       "      <td>899</td>\n",
       "      <td>44991.0</td>\n",
       "      <td>1</td>\n",
       "      <td>65000</td>\n",
       "      <td>27</td>\n",
       "      <td>0</td>\n",
       "      <td>0</td>\n",
       "      <td>1</td>\n",
       "    </tr>\n",
       "    <tr>\n",
       "      <th>2398</th>\n",
       "      <td>2399</td>\n",
       "      <td>5559.0</td>\n",
       "      <td>1</td>\n",
       "      <td>175000</td>\n",
       "      <td>38</td>\n",
       "      <td>1</td>\n",
       "      <td>1</td>\n",
       "      <td>1</td>\n",
       "    </tr>\n",
       "    <tr>\n",
       "      <th>5906</th>\n",
       "      <td>5907</td>\n",
       "      <td>21821.0</td>\n",
       "      <td>1</td>\n",
       "      <td>30000</td>\n",
       "      <td>19</td>\n",
       "      <td>0</td>\n",
       "      <td>0</td>\n",
       "      <td>1</td>\n",
       "    </tr>\n",
       "    <tr>\n",
       "      <th>2343</th>\n",
       "      <td>2344</td>\n",
       "      <td>47492.0</td>\n",
       "      <td>1</td>\n",
       "      <td>50000</td>\n",
       "      <td>20</td>\n",
       "      <td>0</td>\n",
       "      <td>0</td>\n",
       "      <td>1</td>\n",
       "    </tr>\n",
       "  </tbody>\n",
       "</table>\n",
       "</div>"
      ],
      "text/plain": [
       "        id  required_amt  installment_flg  monthly_income_amt  age  \\\n",
       "9394  9395       13659.0                0               40000   22   \n",
       "898    899       44991.0                1               65000   27   \n",
       "2398  2399        5559.0                1              175000   38   \n",
       "5906  5907       21821.0                1               30000   19   \n",
       "2343  2344       47492.0                1               50000   20   \n",
       "\n",
       "      has_high_education_flg  approved_flg  domination  \n",
       "9394                       1             0           1  \n",
       "898                        0             0           1  \n",
       "2398                       1             1           1  \n",
       "5906                       0             0           1  \n",
       "2343                       0             0           1  "
      ]
     },
     "execution_count": 23,
     "metadata": {},
     "output_type": "execute_result"
    }
   ],
   "source": [
    "df['domination'] = (df['required_amt'] < df['monthly_income_amt']).apply(lambda x: int(x))\n",
    "df.sample(5)"
   ]
  },
  {
   "cell_type": "markdown",
   "metadata": {},
   "source": [
    "### Точечная оценка"
   ]
  },
  {
   "cell_type": "code",
   "execution_count": 24,
   "metadata": {},
   "outputs": [
    {
     "name": "stdout",
     "output_type": "stream",
     "text": [
      "dominator client odds = 0.43467829880043624\n",
      "slave client odds = 0.22039942938659057\n"
     ]
    }
   ],
   "source": [
    "print(f'dominator client odds = {odds(df[df.domination == 1].approved_flg.values)}')\n",
    "print(f'slave client odds = {odds(df[df.domination == 0].approved_flg.values)}')"
   ]
  },
  {
   "cell_type": "markdown",
   "metadata": {},
   "source": [
    "### Интервальная оценка"
   ]
  },
  {
   "cell_type": "code",
   "execution_count": 25,
   "metadata": {},
   "outputs": [
    {
     "name": "stdout",
     "output_type": "stream",
     "text": [
      "dominator client 99% confidence interval: [0.40645713 0.46601293]\n",
      "slave:) client 99% confidence interval: [0.19566737 0.24708455]\n"
     ]
    }
   ],
   "source": [
    "dom_odds_scores = list(map(odds, get_bootstrap_samples(df[df.domination == 1].approved_flg.values, 10000)))\n",
    "slav_odds_scores = list(map(odds, get_bootstrap_samples(df[df.domination == 0].approved_flg.values, 10000)))\n",
    "\n",
    "print('dominator client 99% confidence interval:',  get_stat_intervals(dom_odds_scores, 0.01))\n",
    "print('slave:) client 99% confidence interval:',  get_stat_intervals(slav_odds_scores, 0.01))"
   ]
  },
  {
   "cell_type": "markdown",
   "metadata": {},
   "source": [
    "### Оценка отношения точечно и интервально"
   ]
  },
  {
   "cell_type": "code",
   "execution_count": 26,
   "metadata": {},
   "outputs": [
    {
     "name": "stdout",
     "output_type": "stream",
     "text": [
      "Avg odds ratio: 1.97\n"
     ]
    }
   ],
   "source": [
    "rel_odds_scores = list(map(lambda x: x[0] / x[1], zip(dom_odds_scores, slav_odds_scores)))\n",
    "print(f'Avg odds ratio: {sum(rel_odds_scores) / len(rel_odds_scores) :.2f}')"
   ]
  },
  {
   "cell_type": "code",
   "execution_count": 27,
   "metadata": {},
   "outputs": [
    {
     "name": "stdout",
     "output_type": "stream",
     "text": [
      "99% confidence interval for the ratio between odds [1.72793212 2.2491006 ]\n"
     ]
    }
   ],
   "source": [
    "print('99% confidence interval for the ratio between odds',  get_stat_intervals(rel_odds_scores, 0.01))"
   ]
  }
 ],
 "metadata": {
  "colab": {
   "collapsed_sections": [
    "k5o6OFmh1foG",
    "iOuKTvh_bPde",
    "0iHohIa0bPdf",
    "X_dnv1Y0bPdg",
    "8tj6wj8chRRE",
    "uVGG8XBUhb5F",
    "c_sHS4KpMpeF",
    "lj9fW4RjYBUt",
    "IdLmOIvJYBUx",
    "BpVUG50-YBU0",
    "NN92F6EAY2yA",
    "ZzlaACvngj4J",
    "zcgUdsht03SX",
    "UU1b8PAJDK6h",
    "pEsLu-W49jHA"
   ],
   "name": "Seminar_with_credentials.ipynb",
   "provenance": []
  },
  "kernelspec": {
   "display_name": "Python 3",
   "language": "python",
   "name": "python3"
  },
  "language_info": {
   "codemirror_mode": {
    "name": "ipython",
    "version": 3
   },
   "file_extension": ".py",
   "mimetype": "text/x-python",
   "name": "python",
   "nbconvert_exporter": "python",
   "pygments_lexer": "ipython3",
   "version": "3.9.1"
  }
 },
 "nbformat": 4,
 "nbformat_minor": 1
}
